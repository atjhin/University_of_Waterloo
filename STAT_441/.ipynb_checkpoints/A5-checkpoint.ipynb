{
 "cells": [
  {
   "cell_type": "code",
   "execution_count": 112,
   "id": "ffdc271a-392e-439c-b7d5-ff94b6f3f746",
   "metadata": {},
   "outputs": [],
   "source": [
    "import pandas as pd\n",
    "import numpy as np\n",
    "import matplotlib.pyplot as plt\n",
    "import sklearn\n",
    "from sklearn.svm import SVR\n",
    "from sklearn.pipeline import make_pipeline\n",
    "from sklearn.preprocessing import StandardScaler\n",
    "from sklearn.model_selection import GridSearchCV\n",
    "from sklearn import metrics"
   ]
  },
  {
   "cell_type": "markdown",
   "id": "64d8fb6b-0f38-4cd1-9393-1e5afecaab80",
   "metadata": {},
   "source": [
    "# 12.10\n",
    "This question explores the performance of a linear vs. a Gaussian kernel\n",
    "when the underlying true function is nonlinear. Draw a random sample with\n",
    "observations from the following model: \\\n",
    "\\begin{align} y = \\sum_{i=1}^{50}\\exp{(-x_{i})} + \\epsilon \\end{align} \\\n",
    "where $\\epsilon \\sim N(0,1)$. Set aside 400 observations as the test data."
   ]
  },
  {
   "cell_type": "code",
   "execution_count": 94,
   "id": "1991325a-d295-4774-81af-299e855d111b",
   "metadata": {
    "tags": []
   },
   "outputs": [
    {
     "data": {
      "text/html": [
       "<div>\n",
       "<style scoped>\n",
       "    .dataframe tbody tr th:only-of-type {\n",
       "        vertical-align: middle;\n",
       "    }\n",
       "\n",
       "    .dataframe tbody tr th {\n",
       "        vertical-align: top;\n",
       "    }\n",
       "\n",
       "    .dataframe thead th {\n",
       "        text-align: right;\n",
       "    }\n",
       "</style>\n",
       "<table border=\"1\" class=\"dataframe\">\n",
       "  <thead>\n",
       "    <tr style=\"text-align: right;\">\n",
       "      <th></th>\n",
       "      <th>x_0</th>\n",
       "      <th>x_1</th>\n",
       "      <th>x_2</th>\n",
       "      <th>x_3</th>\n",
       "      <th>x_4</th>\n",
       "      <th>x_5</th>\n",
       "      <th>x_6</th>\n",
       "      <th>x_7</th>\n",
       "      <th>x_8</th>\n",
       "      <th>x_9</th>\n",
       "      <th>...</th>\n",
       "      <th>x_41</th>\n",
       "      <th>x_42</th>\n",
       "      <th>x_43</th>\n",
       "      <th>x_44</th>\n",
       "      <th>x_45</th>\n",
       "      <th>x_46</th>\n",
       "      <th>x_47</th>\n",
       "      <th>x_48</th>\n",
       "      <th>x_49</th>\n",
       "      <th>y</th>\n",
       "    </tr>\n",
       "  </thead>\n",
       "  <tbody>\n",
       "    <tr>\n",
       "      <th>0</th>\n",
       "      <td>1.668047</td>\n",
       "      <td>0.737348</td>\n",
       "      <td>-0.201538</td>\n",
       "      <td>-0.150912</td>\n",
       "      <td>0.916052</td>\n",
       "      <td>1.16033</td>\n",
       "      <td>-2.619962</td>\n",
       "      <td>-1.325295</td>\n",
       "      <td>0.459989</td>\n",
       "      <td>0.102052</td>\n",
       "      <td>...</td>\n",
       "      <td>0.00587</td>\n",
       "      <td>0.590505</td>\n",
       "      <td>-0.392476</td>\n",
       "      <td>0.035911</td>\n",
       "      <td>-0.330755</td>\n",
       "      <td>0.808776</td>\n",
       "      <td>0.053311</td>\n",
       "      <td>-1.318902</td>\n",
       "      <td>-1.079781</td>\n",
       "      <td>82.195061</td>\n",
       "    </tr>\n",
       "    <tr>\n",
       "      <th>1</th>\n",
       "      <td>0.148727</td>\n",
       "      <td>1.814919</td>\n",
       "      <td>0.552499</td>\n",
       "      <td>-0.539225</td>\n",
       "      <td>0.927051</td>\n",
       "      <td>1.198887</td>\n",
       "      <td>0.017968</td>\n",
       "      <td>1.015882</td>\n",
       "      <td>-1.184307</td>\n",
       "      <td>1.764119</td>\n",
       "      <td>...</td>\n",
       "      <td>-1.003963</td>\n",
       "      <td>0.325215</td>\n",
       "      <td>1.399437</td>\n",
       "      <td>-0.447429</td>\n",
       "      <td>-1.227299</td>\n",
       "      <td>-1.103294</td>\n",
       "      <td>-0.847868</td>\n",
       "      <td>-0.545588</td>\n",
       "      <td>0.087218</td>\n",
       "      <td>76.685871</td>\n",
       "    </tr>\n",
       "    <tr>\n",
       "      <th>2</th>\n",
       "      <td>0.689942</td>\n",
       "      <td>0.470593</td>\n",
       "      <td>-1.610504</td>\n",
       "      <td>1.128167</td>\n",
       "      <td>-0.704946</td>\n",
       "      <td>-1.632167</td>\n",
       "      <td>0.401283</td>\n",
       "      <td>-0.144978</td>\n",
       "      <td>-0.619825</td>\n",
       "      <td>-0.504577</td>\n",
       "      <td>...</td>\n",
       "      <td>2.459863</td>\n",
       "      <td>-0.944187</td>\n",
       "      <td>-0.38703</td>\n",
       "      <td>0.519533</td>\n",
       "      <td>0.373261</td>\n",
       "      <td>0.691718</td>\n",
       "      <td>-0.051923</td>\n",
       "      <td>1.094018</td>\n",
       "      <td>0.960528</td>\n",
       "      <td>80.570351</td>\n",
       "    </tr>\n",
       "    <tr>\n",
       "      <th>3</th>\n",
       "      <td>0.264371</td>\n",
       "      <td>1.108261</td>\n",
       "      <td>-0.596448</td>\n",
       "      <td>1.604432</td>\n",
       "      <td>0.442297</td>\n",
       "      <td>0.652969</td>\n",
       "      <td>-1.446661</td>\n",
       "      <td>-1.415031</td>\n",
       "      <td>-1.266174</td>\n",
       "      <td>1.426812</td>\n",
       "      <td>...</td>\n",
       "      <td>1.108249</td>\n",
       "      <td>-1.015762</td>\n",
       "      <td>-1.035529</td>\n",
       "      <td>2.204111</td>\n",
       "      <td>-1.017864</td>\n",
       "      <td>-2.273763</td>\n",
       "      <td>1.070531</td>\n",
       "      <td>2.105159</td>\n",
       "      <td>-0.272036</td>\n",
       "      <td>79.572373</td>\n",
       "    </tr>\n",
       "    <tr>\n",
       "      <th>4</th>\n",
       "      <td>-0.426242</td>\n",
       "      <td>0.996632</td>\n",
       "      <td>1.089346</td>\n",
       "      <td>-3.330632</td>\n",
       "      <td>0.515182</td>\n",
       "      <td>-0.988884</td>\n",
       "      <td>1.11878</td>\n",
       "      <td>-1.248396</td>\n",
       "      <td>0.299473</td>\n",
       "      <td>-0.183379</td>\n",
       "      <td>...</td>\n",
       "      <td>0.318224</td>\n",
       "      <td>-0.162694</td>\n",
       "      <td>-0.186053</td>\n",
       "      <td>0.00567</td>\n",
       "      <td>-1.466342</td>\n",
       "      <td>-0.15261</td>\n",
       "      <td>1.133054</td>\n",
       "      <td>-0.777847</td>\n",
       "      <td>-0.005586</td>\n",
       "      <td>110.481971</td>\n",
       "    </tr>\n",
       "  </tbody>\n",
       "</table>\n",
       "<p>5 rows × 51 columns</p>\n",
       "</div>"
      ],
      "text/plain": [
       "        x_0       x_1       x_2       x_3       x_4       x_5       x_6  \\\n",
       "0  1.668047  0.737348 -0.201538 -0.150912  0.916052   1.16033 -2.619962   \n",
       "1  0.148727  1.814919  0.552499 -0.539225  0.927051  1.198887  0.017968   \n",
       "2  0.689942  0.470593 -1.610504  1.128167 -0.704946 -1.632167  0.401283   \n",
       "3  0.264371  1.108261 -0.596448  1.604432  0.442297  0.652969 -1.446661   \n",
       "4 -0.426242  0.996632  1.089346 -3.330632  0.515182 -0.988884   1.11878   \n",
       "\n",
       "        x_7       x_8       x_9  ...      x_41      x_42      x_43      x_44  \\\n",
       "0 -1.325295  0.459989  0.102052  ...   0.00587  0.590505 -0.392476  0.035911   \n",
       "1  1.015882 -1.184307  1.764119  ... -1.003963  0.325215  1.399437 -0.447429   \n",
       "2 -0.144978 -0.619825 -0.504577  ...  2.459863 -0.944187  -0.38703  0.519533   \n",
       "3 -1.415031 -1.266174  1.426812  ...  1.108249 -1.015762 -1.035529  2.204111   \n",
       "4 -1.248396  0.299473 -0.183379  ...  0.318224 -0.162694 -0.186053   0.00567   \n",
       "\n",
       "       x_45      x_46      x_47      x_48      x_49           y  \n",
       "0 -0.330755  0.808776  0.053311 -1.318902 -1.079781   82.195061  \n",
       "1 -1.227299 -1.103294 -0.847868 -0.545588  0.087218   76.685871  \n",
       "2  0.373261  0.691718 -0.051923  1.094018  0.960528   80.570351  \n",
       "3 -1.017864 -2.273763  1.070531  2.105159 -0.272036   79.572373  \n",
       "4 -1.466342  -0.15261  1.133054 -0.777847 -0.005586  110.481971  \n",
       "\n",
       "[5 rows x 51 columns]"
      ]
     },
     "execution_count": 94,
     "metadata": {},
     "output_type": "execute_result"
    }
   ],
   "source": [
    "np.random.seed(2024)\n",
    "colname = []\n",
    "for i in range(50):\n",
    "    colname.append('x_' + str(i))\n",
    "colname.append('y')\n",
    "data = pd.DataFrame(columns=colname)\n",
    "for i in range(1000):\n",
    "    x = np.random.normal(size=50)\n",
    "    eps = np.random.normal()\n",
    "    y = sum(np.exp(-x)) + eps\n",
    "    data = pd.concat([data, pd.DataFrame([np.append(x, y)], columns=colname)], axis=0)\n",
    "data.reset_index(drop=True, inplace=True)\n",
    "data.head()"
   ]
  },
  {
   "cell_type": "code",
   "execution_count": 99,
   "id": "5cd9df4e-b7cf-49ba-a9d9-24221f2663ab",
   "metadata": {},
   "outputs": [],
   "source": [
    "X_train, X_test, y_train, y_test = sklearn.model_selection.train_test_split(data.drop('y', axis=1), data['y'], test_size=0.4, random_state=2024)"
   ]
  },
  {
   "cell_type": "markdown",
   "id": "93c46fc2-6b10-4bcf-aaeb-ab3487239fb7",
   "metadata": {},
   "source": [
    " (a) Fit a SVM model with a linear kernel. Optionally, you can try tuning; in our sample, this does not improve the MSE much. Evaluate the MSE on the test data set. "
   ]
  },
  {
   "cell_type": "code",
   "execution_count": 124,
   "id": "43f27c8b-3463-421c-bc42-d96218983d19",
   "metadata": {},
   "outputs": [
    {
     "name": "stdout",
     "output_type": "stream",
     "text": [
      "MSE on test data: 111.3424195794475\n"
     ]
    }
   ],
   "source": [
    "test_params = {'C':[1, 5, 10, 20],\n",
    "               'epsilon': [0.1, 1, 10, 20]}\n",
    "svm_linear = GridSearchCV(\n",
    "    estimator = SVR(kernel='linear'),\n",
    "    param_grid = test_params)\n",
    "svm_linear.fit(X_train,y_train)\n",
    "yl_pred = svm_linear.best_estimator_.predict(X_test)\n",
    "print(\"MSE on test data:\",metrics.mean_squared_error(y_test, yl_pred))"
   ]
  },
  {
   "cell_type": "code",
   "execution_count": 127,
   "id": "8cbfb189-c28b-4646-b860-55dae93dcdbe",
   "metadata": {},
   "outputs": [
    {
     "data": {
      "text/plain": [
       "{'C': 1, 'epsilon': 0.1}"
      ]
     },
     "execution_count": 127,
     "metadata": {},
     "output_type": "execute_result"
    }
   ],
   "source": [
    "svm_linear.best_params_"
   ]
  },
  {
   "cell_type": "markdown",
   "id": "19cb59b8-4e6b-44ef-acdf-376c519bb8f4",
   "metadata": {},
   "source": [
    "(b) With tuning, fit a SVM model with a Gaussian (RBF) kernel. Use crossvalidation for tuning. Evaluate the MSE on the test data set. "
   ]
  },
  {
   "cell_type": "code",
   "execution_count": 125,
   "id": "f4fc51c5-b73a-4c28-bda9-5bb03b141c5c",
   "metadata": {},
   "outputs": [
    {
     "name": "stdout",
     "output_type": "stream",
     "text": [
      "MSE on test data: 48.17829464536922\n"
     ]
    }
   ],
   "source": [
    "test_params = {'C':[1, 5, 10, 20],\n",
    "               'epsilon': [0.1, 1, 10, 20]}\n",
    "svm_rbf = GridSearchCV(\n",
    "    estimator = SVR(kernel='rbf'),\n",
    "    param_grid = test_params)\n",
    "svm_rbf.fit(X_train,y_train)\n",
    "yrbf_pred = svm_rbf.best_estimator_.predict(X_test)\n",
    "print(\"MSE on test data:\",metrics.mean_squared_error(y_test, yrbf_pred))"
   ]
  },
  {
   "cell_type": "code",
   "execution_count": 126,
   "id": "16b66b1b-bcf7-420d-ae3a-7b8765fad690",
   "metadata": {
    "tags": []
   },
   "outputs": [
    {
     "data": {
      "text/plain": [
       "{'C': 20, 'epsilon': 0.1}"
      ]
     },
     "execution_count": 126,
     "metadata": {},
     "output_type": "execute_result"
    }
   ],
   "source": [
    "svm_rbf.best_params_"
   ]
  },
  {
   "cell_type": "markdown",
   "id": "aa778c29-fc77-4cae-a396-4d2f40a1bde2",
   "metadata": {},
   "source": [
    "### (c) Compare the results and comment."
   ]
  },
  {
   "cell_type": "markdown",
   "id": "3d96a77f-5f02-4190-babe-9ed61e0ed9d4",
   "metadata": {},
   "source": [
    "The MSE on test data is much lower when we use the gaussian kernel which is to be expected as we generated the data by summing up the exponential of x's. The gaussian kernel offers more flexibility and due to the non-linear nature of y-variate, the Gaussian kernel is a much better kernel to use."
   ]
  },
  {
   "cell_type": "code",
   "execution_count": 130,
   "id": "40a1d7ad-d283-41ca-aa02-8158ffa554c0",
   "metadata": {},
   "outputs": [
    {
     "data": {
      "text/plain": [
       "(400,)"
      ]
     },
     "execution_count": 131,
     "metadata": {},
     "output_type": "execute_result"
    }
   ],
   "source": [
    "yrbf_pred.shape"
   ]
  },
  {
   "cell_type": "code",
   "execution_count": 137,
   "id": "d178481a-c2dc-47c2-bd4a-9e4ef61d75e6",
   "metadata": {
    "tags": []
   },
   "outputs": [
    {
     "data": {
      "text/plain": [
       "(200.0, 250.0)"
      ]
     },
     "execution_count": 137,
     "metadata": {},
     "output_type": "execute_result"
    },
    {
     "data": {
      "image/png": "[encoded data removed]",
      "text/plain": [
       "<Figure size 432x288 with 1 Axes>"
      ]
     },
     "metadata": {
      "needs_background": "light"
     },
     "output_type": "display_data"
    }
   ],
   "source": [
    "plt.plot(np.arange(400), y_test, label='Actual')\n",
    "plt.plot(yrbf_pred, label='Gaussian')\n",
    "plt.plot(yl_pred, label='Linear')\n",
    "plt.legend()\n",
    "plt.xlim(200,250)"
   ]
  },
  {
   "cell_type": "code",
   "execution_count": 139,
   "id": "5e3bf558-507b-49d8-9a32-86c555a6d74c",
   "metadata": {},
   "outputs": [
    {
     "data": {
      "text/plain": [
       "array([84.30485386, 90.24591489, 83.055949  , 89.00543295, 81.44057548,\n",
       "       96.08680463, 65.68915408, 83.90335987, 70.196071  , 70.70255588])"
      ]
     },
     "execution_count": 139,
     "metadata": {},
     "output_type": "execute_result"
    }
   ],
   "source": [
    "yrbf_pred[:10]"
   ]
  },
  {
   "cell_type": "code",
   "execution_count": 141,
   "id": "7f5c873f-2eab-4c59-8d61-b5a1e17cbe46",
   "metadata": {},
   "outputs": [
    {
     "data": {
      "text/plain": [
       "444      88.58314\n",
       "898     97.185946\n",
       "186     75.078844\n",
       "584     92.448961\n",
       "664     84.483076\n",
       "457    101.512772\n",
       "99      68.493512\n",
       "941     80.776216\n",
       "643     65.548248\n",
       "276     68.160754\n",
       "Name: y, dtype: object"
      ]
     },
     "execution_count": 141,
     "metadata": {},
     "output_type": "execute_result"
    }
   ],
   "source": [
    "y_test[:10]"
   ]
  },
  {
   "cell_type": "code",
   "execution_count": 142,
   "id": "6f77a035-a5f2-4514-af07-4e0cd2c81341",
   "metadata": {},
   "outputs": [
    {
     "data": {
      "text/plain": [
       "48.17829464536922"
      ]
     },
     "execution_count": 142,
     "metadata": {},
     "output_type": "execute_result"
    }
   ],
   "source": [
    "metrics.mean_squared_error(y_test, yrbf_pred)"
   ]
  }
 ],
 "metadata": {
  "kernelspec": {
   "display_name": "Python 3 (ipykernel)",
   "language": "python",
   "name": "python3"
  },
  "language_info": {
   "codemirror_mode": {
    "name": "ipython",
    "version": 3
   },
   "file_extension": ".py",
   "mimetype": "text/x-python",
   "name": "python",
   "nbconvert_exporter": "python",
   "pygments_lexer": "ipython3",
   "version": "3.9.12"
  }
 },
 "nbformat": 4,
 "nbformat_minor": 5
}
