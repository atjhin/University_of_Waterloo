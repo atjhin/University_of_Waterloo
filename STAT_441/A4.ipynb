{
 "cells": [
  {
   "cell_type": "code",
   "execution_count": 1,
   "id": "f761389c-c717-4f64-8cf2-c82952f3e863",
   "metadata": {},
   "outputs": [],
   "source": [
    "import pandas as pd\n",
    "import numpy as np\n",
    "import matplotlib.pyplot as plt\n",
    "import sklearn.linear_model\n",
    "import xgboost as xgb\n",
    "import random\n",
    "from sklearn.model_selection import GridSearchCV\n",
    "from sklearn.ensemble import RandomForestClassifier\n",
    "from sklearn.linear_model import LogisticRegression\n",
    "from sklearn.linear_model import LogisticRegressionCV\n",
    "from sklearn.model_selection import cross_val_score\n",
    "from sklearn.model_selection import RepeatedKFold\n",
    "\n",
    "random.seed(10)"
   ]
  },
  {
   "cell_type": "code",
   "execution_count": 2,
   "id": "4ba35cd1-add1-4ba8-b055-40ec2efd1b67",
   "metadata": {},
   "outputs": [
    {
     "data": {
      "text/html": [
       "<div>\n",
       "<style scoped>\n",
       "    .dataframe tbody tr th:only-of-type {\n",
       "        vertical-align: middle;\n",
       "    }\n",
       "\n",
       "    .dataframe tbody tr th {\n",
       "        vertical-align: top;\n",
       "    }\n",
       "\n",
       "    .dataframe thead th {\n",
       "        text-align: right;\n",
       "    }\n",
       "</style>\n",
       "<table border=\"1\" class=\"dataframe\">\n",
       "  <thead>\n",
       "    <tr style=\"text-align: right;\">\n",
       "      <th></th>\n",
       "      <th>tabxneg0</th>\n",
       "      <th>age</th>\n",
       "      <th>female1</th>\n",
       "      <th>newheadache</th>\n",
       "      <th>taabnormality</th>\n",
       "      <th>jawclaudication1</th>\n",
       "      <th>platelet</th>\n",
       "      <th>discrao</th>\n",
       "      <th>diplopia1</th>\n",
       "      <th>origesr</th>\n",
       "      <th>crp</th>\n",
       "    </tr>\n",
       "  </thead>\n",
       "  <tbody>\n",
       "    <tr>\n",
       "      <th>0</th>\n",
       "      <td>0</td>\n",
       "      <td>89.0</td>\n",
       "      <td>0</td>\n",
       "      <td>1</td>\n",
       "      <td>1</td>\n",
       "      <td>0</td>\n",
       "      <td>345</td>\n",
       "      <td>0</td>\n",
       "      <td>0</td>\n",
       "      <td>89.000000</td>\n",
       "      <td>0.500000</td>\n",
       "    </tr>\n",
       "    <tr>\n",
       "      <th>1</th>\n",
       "      <td>0</td>\n",
       "      <td>65.0</td>\n",
       "      <td>0</td>\n",
       "      <td>1</td>\n",
       "      <td>1</td>\n",
       "      <td>0</td>\n",
       "      <td>341</td>\n",
       "      <td>0</td>\n",
       "      <td>0</td>\n",
       "      <td>37.000000</td>\n",
       "      <td>6.666666</td>\n",
       "    </tr>\n",
       "    <tr>\n",
       "      <th>2</th>\n",
       "      <td>0</td>\n",
       "      <td>71.0</td>\n",
       "      <td>1</td>\n",
       "      <td>1</td>\n",
       "      <td>1</td>\n",
       "      <td>1</td>\n",
       "      <td>129</td>\n",
       "      <td>0</td>\n",
       "      <td>0</td>\n",
       "      <td>6.075000</td>\n",
       "      <td>0.080000</td>\n",
       "    </tr>\n",
       "    <tr>\n",
       "      <th>3</th>\n",
       "      <td>0</td>\n",
       "      <td>68.0</td>\n",
       "      <td>1</td>\n",
       "      <td>1</td>\n",
       "      <td>0</td>\n",
       "      <td>0</td>\n",
       "      <td>219</td>\n",
       "      <td>0</td>\n",
       "      <td>0</td>\n",
       "      <td>33.000000</td>\n",
       "      <td>0.633333</td>\n",
       "    </tr>\n",
       "    <tr>\n",
       "      <th>4</th>\n",
       "      <td>0</td>\n",
       "      <td>77.0</td>\n",
       "      <td>1</td>\n",
       "      <td>1</td>\n",
       "      <td>1</td>\n",
       "      <td>1</td>\n",
       "      <td>359</td>\n",
       "      <td>1</td>\n",
       "      <td>0</td>\n",
       "      <td>7.000000</td>\n",
       "      <td>0.233333</td>\n",
       "    </tr>\n",
       "    <tr>\n",
       "      <th>...</th>\n",
       "      <td>...</td>\n",
       "      <td>...</td>\n",
       "      <td>...</td>\n",
       "      <td>...</td>\n",
       "      <td>...</td>\n",
       "      <td>...</td>\n",
       "      <td>...</td>\n",
       "      <td>...</td>\n",
       "      <td>...</td>\n",
       "      <td>...</td>\n",
       "      <td>...</td>\n",
       "    </tr>\n",
       "    <tr>\n",
       "      <th>525</th>\n",
       "      <td>1</td>\n",
       "      <td>86.0</td>\n",
       "      <td>1</td>\n",
       "      <td>1</td>\n",
       "      <td>1</td>\n",
       "      <td>1</td>\n",
       "      <td>287</td>\n",
       "      <td>0</td>\n",
       "      <td>0</td>\n",
       "      <td>70.000000</td>\n",
       "      <td>48.633331</td>\n",
       "    </tr>\n",
       "    <tr>\n",
       "      <th>526</th>\n",
       "      <td>1</td>\n",
       "      <td>76.0</td>\n",
       "      <td>0</td>\n",
       "      <td>1</td>\n",
       "      <td>1</td>\n",
       "      <td>1</td>\n",
       "      <td>401</td>\n",
       "      <td>0</td>\n",
       "      <td>0</td>\n",
       "      <td>140.000000</td>\n",
       "      <td>37.866665</td>\n",
       "    </tr>\n",
       "    <tr>\n",
       "      <th>527</th>\n",
       "      <td>1</td>\n",
       "      <td>68.0</td>\n",
       "      <td>1</td>\n",
       "      <td>1</td>\n",
       "      <td>1</td>\n",
       "      <td>0</td>\n",
       "      <td>267</td>\n",
       "      <td>1</td>\n",
       "      <td>0</td>\n",
       "      <td>19.999981</td>\n",
       "      <td>3.000000</td>\n",
       "    </tr>\n",
       "    <tr>\n",
       "      <th>528</th>\n",
       "      <td>1</td>\n",
       "      <td>78.0</td>\n",
       "      <td>1</td>\n",
       "      <td>1</td>\n",
       "      <td>1</td>\n",
       "      <td>1</td>\n",
       "      <td>504</td>\n",
       "      <td>0</td>\n",
       "      <td>0</td>\n",
       "      <td>105.000000</td>\n",
       "      <td>70.633331</td>\n",
       "    </tr>\n",
       "    <tr>\n",
       "      <th>529</th>\n",
       "      <td>1</td>\n",
       "      <td>83.0</td>\n",
       "      <td>0</td>\n",
       "      <td>1</td>\n",
       "      <td>1</td>\n",
       "      <td>0</td>\n",
       "      <td>357</td>\n",
       "      <td>0</td>\n",
       "      <td>0</td>\n",
       "      <td>48.000141</td>\n",
       "      <td>9.166670</td>\n",
       "    </tr>\n",
       "  </tbody>\n",
       "</table>\n",
       "<p>530 rows × 11 columns</p>\n",
       "</div>"
      ],
      "text/plain": [
       "     tabxneg0   age  female1  newheadache  taabnormality  jawclaudication1  \\\n",
       "0           0  89.0        0            1              1                 0   \n",
       "1           0  65.0        0            1              1                 0   \n",
       "2           0  71.0        1            1              1                 1   \n",
       "3           0  68.0        1            1              0                 0   \n",
       "4           0  77.0        1            1              1                 1   \n",
       "..        ...   ...      ...          ...            ...               ...   \n",
       "525         1  86.0        1            1              1                 1   \n",
       "526         1  76.0        0            1              1                 1   \n",
       "527         1  68.0        1            1              1                 0   \n",
       "528         1  78.0        1            1              1                 1   \n",
       "529         1  83.0        0            1              1                 0   \n",
       "\n",
       "     platelet  discrao  diplopia1     origesr        crp  \n",
       "0         345        0          0   89.000000   0.500000  \n",
       "1         341        0          0   37.000000   6.666666  \n",
       "2         129        0          0    6.075000   0.080000  \n",
       "3         219        0          0   33.000000   0.633333  \n",
       "4         359        1          0    7.000000   0.233333  \n",
       "..        ...      ...        ...         ...        ...  \n",
       "525       287        0          0   70.000000  48.633331  \n",
       "526       401        0          0  140.000000  37.866665  \n",
       "527       267        1          0   19.999981   3.000000  \n",
       "528       504        0          0  105.000000  70.633331  \n",
       "529       357        0          0   48.000141   9.166670  \n",
       "\n",
       "[530 rows x 11 columns]"
      ]
     },
     "execution_count": 2,
     "metadata": {},
     "output_type": "execute_result"
    }
   ],
   "source": [
    "data = pd.read_csv('Data/optometry.csv')\n",
    "data"
   ]
  },
  {
   "cell_type": "code",
   "execution_count": 3,
   "id": "e4eb7a6d-7557-4d7f-8f20-e10de442f621",
   "metadata": {
    "tags": []
   },
   "outputs": [],
   "source": [
    "x = data.loc[:, data.columns != \"tabxneg0\"]\n",
    "y = data['tabxneg0']"
   ]
  },
  {
   "cell_type": "markdown",
   "id": "778a133c-db13-44bc-854b-acfc316b1237",
   "metadata": {},
   "source": [
    "# 11.7a\n",
    "Explore the misclassification error as a function of different values of shrinking\n",
    "and interactions (number of splits), keeping a subset of 50% of variables at each\n",
    "iteration (i.e., bagging = 50%). Show a graph or a table of the combinations\n",
    "you tried. Which combination minimizes misclassification error? "
   ]
  },
  {
   "cell_type": "code",
   "execution_count": 4,
   "id": "a778b135-7741-4801-8482-8326aa2e46ee",
   "metadata": {
    "tags": []
   },
   "outputs": [
    {
     "name": "stdout",
     "output_type": "stream",
     "text": [
      "The combination of parameters that minimizes classification error is {'eta': 0.1, 'max_depth': 6}\n"
     ]
    }
   ],
   "source": [
    "test_params = {\n",
    " 'max_depth':np.arange(2, 10, 2),\n",
    " 'eta': np.array([0.001, 0.005, 0.01, 0.05, 0.1])\n",
    "}\n",
    "\n",
    "model = GridSearchCV(\n",
    "    estimator = xgb.XGBClassifier(objective='binary:logistic', \n",
    "                                  subsample=0.5, eval_metric='error'), \n",
    "    param_grid = test_params)\n",
    "model.fit(x,y)\n",
    "print(f'The combination of parameters that minimizes classification error is {model.best_params_}')"
   ]
  },
  {
   "cell_type": "code",
   "execution_count": 5,
   "id": "40a35b3f-15c6-44ce-a8a0-5aa4bdcb3a37",
   "metadata": {
    "tags": []
   },
   "outputs": [
    {
     "data": {
      "text/html": [
       "<div>\n",
       "<style scoped>\n",
       "    .dataframe tbody tr th:only-of-type {\n",
       "        vertical-align: middle;\n",
       "    }\n",
       "\n",
       "    .dataframe tbody tr th {\n",
       "        vertical-align: top;\n",
       "    }\n",
       "\n",
       "    .dataframe thead th {\n",
       "        text-align: right;\n",
       "    }\n",
       "</style>\n",
       "<table border=\"1\" class=\"dataframe\">\n",
       "  <thead>\n",
       "    <tr style=\"text-align: right;\">\n",
       "      <th></th>\n",
       "      <th>eta</th>\n",
       "      <th>max_depth</th>\n",
       "      <th>mean_test_score</th>\n",
       "      <th>rank_test_score</th>\n",
       "      <th>std_test_score</th>\n",
       "    </tr>\n",
       "  </thead>\n",
       "  <tbody>\n",
       "    <tr>\n",
       "      <th>0</th>\n",
       "      <td>0.001</td>\n",
       "      <td>2.0</td>\n",
       "      <td>0.749057</td>\n",
       "      <td>13</td>\n",
       "      <td>0.004622</td>\n",
       "    </tr>\n",
       "    <tr>\n",
       "      <th>1</th>\n",
       "      <td>0.001</td>\n",
       "      <td>4.0</td>\n",
       "      <td>0.749057</td>\n",
       "      <td>13</td>\n",
       "      <td>0.004622</td>\n",
       "    </tr>\n",
       "    <tr>\n",
       "      <th>2</th>\n",
       "      <td>0.001</td>\n",
       "      <td>6.0</td>\n",
       "      <td>0.749057</td>\n",
       "      <td>13</td>\n",
       "      <td>0.004622</td>\n",
       "    </tr>\n",
       "    <tr>\n",
       "      <th>3</th>\n",
       "      <td>0.001</td>\n",
       "      <td>8.0</td>\n",
       "      <td>0.749057</td>\n",
       "      <td>13</td>\n",
       "      <td>0.004622</td>\n",
       "    </tr>\n",
       "    <tr>\n",
       "      <th>4</th>\n",
       "      <td>0.005</td>\n",
       "      <td>2.0</td>\n",
       "      <td>0.749057</td>\n",
       "      <td>13</td>\n",
       "      <td>0.004622</td>\n",
       "    </tr>\n",
       "    <tr>\n",
       "      <th>5</th>\n",
       "      <td>0.005</td>\n",
       "      <td>4.0</td>\n",
       "      <td>0.749057</td>\n",
       "      <td>13</td>\n",
       "      <td>0.004622</td>\n",
       "    </tr>\n",
       "    <tr>\n",
       "      <th>6</th>\n",
       "      <td>0.005</td>\n",
       "      <td>6.0</td>\n",
       "      <td>0.749057</td>\n",
       "      <td>13</td>\n",
       "      <td>0.004622</td>\n",
       "    </tr>\n",
       "    <tr>\n",
       "      <th>7</th>\n",
       "      <td>0.005</td>\n",
       "      <td>8.0</td>\n",
       "      <td>0.749057</td>\n",
       "      <td>13</td>\n",
       "      <td>0.004622</td>\n",
       "    </tr>\n",
       "    <tr>\n",
       "      <th>8</th>\n",
       "      <td>0.010</td>\n",
       "      <td>2.0</td>\n",
       "      <td>0.775472</td>\n",
       "      <td>12</td>\n",
       "      <td>0.013865</td>\n",
       "    </tr>\n",
       "    <tr>\n",
       "      <th>9</th>\n",
       "      <td>0.010</td>\n",
       "      <td>4.0</td>\n",
       "      <td>0.803774</td>\n",
       "      <td>9</td>\n",
       "      <td>0.018293</td>\n",
       "    </tr>\n",
       "    <tr>\n",
       "      <th>10</th>\n",
       "      <td>0.010</td>\n",
       "      <td>6.0</td>\n",
       "      <td>0.801887</td>\n",
       "      <td>10</td>\n",
       "      <td>0.026683</td>\n",
       "    </tr>\n",
       "    <tr>\n",
       "      <th>11</th>\n",
       "      <td>0.010</td>\n",
       "      <td>8.0</td>\n",
       "      <td>0.798113</td>\n",
       "      <td>11</td>\n",
       "      <td>0.025732</td>\n",
       "    </tr>\n",
       "    <tr>\n",
       "      <th>12</th>\n",
       "      <td>0.050</td>\n",
       "      <td>2.0</td>\n",
       "      <td>0.815094</td>\n",
       "      <td>4</td>\n",
       "      <td>0.022798</td>\n",
       "    </tr>\n",
       "    <tr>\n",
       "      <th>13</th>\n",
       "      <td>0.050</td>\n",
       "      <td>4.0</td>\n",
       "      <td>0.805660</td>\n",
       "      <td>7</td>\n",
       "      <td>0.028985</td>\n",
       "    </tr>\n",
       "    <tr>\n",
       "      <th>14</th>\n",
       "      <td>0.050</td>\n",
       "      <td>6.0</td>\n",
       "      <td>0.815094</td>\n",
       "      <td>4</td>\n",
       "      <td>0.030189</td>\n",
       "    </tr>\n",
       "    <tr>\n",
       "      <th>15</th>\n",
       "      <td>0.050</td>\n",
       "      <td>8.0</td>\n",
       "      <td>0.807547</td>\n",
       "      <td>6</td>\n",
       "      <td>0.022004</td>\n",
       "    </tr>\n",
       "    <tr>\n",
       "      <th>16</th>\n",
       "      <td>0.100</td>\n",
       "      <td>2.0</td>\n",
       "      <td>0.815094</td>\n",
       "      <td>3</td>\n",
       "      <td>0.019426</td>\n",
       "    </tr>\n",
       "    <tr>\n",
       "      <th>17</th>\n",
       "      <td>0.100</td>\n",
       "      <td>4.0</td>\n",
       "      <td>0.816981</td>\n",
       "      <td>2</td>\n",
       "      <td>0.035600</td>\n",
       "    </tr>\n",
       "    <tr>\n",
       "      <th>18</th>\n",
       "      <td>0.100</td>\n",
       "      <td>6.0</td>\n",
       "      <td>0.818868</td>\n",
       "      <td>1</td>\n",
       "      <td>0.031797</td>\n",
       "    </tr>\n",
       "    <tr>\n",
       "      <th>19</th>\n",
       "      <td>0.100</td>\n",
       "      <td>8.0</td>\n",
       "      <td>0.805660</td>\n",
       "      <td>7</td>\n",
       "      <td>0.034067</td>\n",
       "    </tr>\n",
       "  </tbody>\n",
       "</table>\n",
       "</div>"
      ],
      "text/plain": [
       "      eta  max_depth  mean_test_score  rank_test_score  std_test_score\n",
       "0   0.001        2.0         0.749057               13        0.004622\n",
       "1   0.001        4.0         0.749057               13        0.004622\n",
       "2   0.001        6.0         0.749057               13        0.004622\n",
       "3   0.001        8.0         0.749057               13        0.004622\n",
       "4   0.005        2.0         0.749057               13        0.004622\n",
       "5   0.005        4.0         0.749057               13        0.004622\n",
       "6   0.005        6.0         0.749057               13        0.004622\n",
       "7   0.005        8.0         0.749057               13        0.004622\n",
       "8   0.010        2.0         0.775472               12        0.013865\n",
       "9   0.010        4.0         0.803774                9        0.018293\n",
       "10  0.010        6.0         0.801887               10        0.026683\n",
       "11  0.010        8.0         0.798113               11        0.025732\n",
       "12  0.050        2.0         0.815094                4        0.022798\n",
       "13  0.050        4.0         0.805660                7        0.028985\n",
       "14  0.050        6.0         0.815094                4        0.030189\n",
       "15  0.050        8.0         0.807547                6        0.022004\n",
       "16  0.100        2.0         0.815094                3        0.019426\n",
       "17  0.100        4.0         0.816981                2        0.035600\n",
       "18  0.100        6.0         0.818868                1        0.031797\n",
       "19  0.100        8.0         0.805660                7        0.034067"
      ]
     },
     "execution_count": 5,
     "metadata": {},
     "output_type": "execute_result"
    }
   ],
   "source": [
    "cv_df = pd.DataFrame(model.cv_results_)[['params', 'mean_test_score', \n",
    "                                         'rank_test_score', 'std_test_score']]\n",
    "cv_df = pd.concat([cv_df['params'].apply(pd.Series), \n",
    "                   cv_df.drop(['params'], axis=1)], axis=1)\n",
    "cv_df"
   ]
  },
  {
   "cell_type": "code",
   "execution_count": 6,
   "id": "03fa0fba-1d0a-4668-a174-fbd9dd0da772",
   "metadata": {
    "tags": []
   },
   "outputs": [
    {
     "data": {
      "text/plain": [
       "XGBClassifier(base_score=None, booster=None, callbacks=None,\n",
       "              colsample_bylevel=None, colsample_bynode=None,\n",
       "              colsample_bytree=None, device=None, early_stopping_rounds=None,\n",
       "              enable_categorical=False, eta=6, eval_metric='error',\n",
       "              feature_types=None, gamma=None, grow_policy=None,\n",
       "              importance_type=None, interaction_constraints=None,\n",
       "              learning_rate=None, max_bin=None, max_cat_threshold=None,\n",
       "              max_cat_to_onehot=None, max_delta_step=None, max_depth=6,\n",
       "              max_leaves=None, min_child_weight=None, missing=nan,\n",
       "              monotone_constraints=None, multi_strategy=None, n_estimators=100,\n",
       "              n_jobs=None, num_parallel_tree=None, ...)"
      ]
     },
     "execution_count": 6,
     "metadata": {},
     "output_type": "execute_result"
    }
   ],
   "source": [
    "params = {\n",
    "    'objective':'binary:logistic',\n",
    "    'max_depth': model.best_params_['max_depth'],\n",
    "    'subsample':0.5,\n",
    "    'eta': model.best_params_['max_depth'],\n",
    "    'n_estimators':100,\n",
    "    'eval_metric':'error'\n",
    "}     \n",
    "# instantiate the classifier \n",
    "xgb_clf = xgb.XGBClassifier(**params, verbosity=2)\n",
    "\n",
    "\n",
    "# fit the classifier to the training data\n",
    "xgb_clf.fit(x, y)"
   ]
  },
  {
   "cell_type": "markdown",
   "id": "b8cab5d0-24a7-445a-9202-6f06e9fc5774",
   "metadata": {},
   "source": [
    "# 11.7b\n",
    "Create a bar chart of variable influence or variable importance for your best\n",
    "model. Mention whether your graph displays influence (reduction in SS) or\n",
    "importance (perturbing x-vars). Broadly speaking, is the bar chart for boosting\n",
    "similar to that of random forest from 10.4? "
   ]
  },
  {
   "cell_type": "code",
   "execution_count": 7,
   "id": "82fab7a8-255a-4dc9-bada-4fac2616c2cc",
   "metadata": {},
   "outputs": [
    {
     "data": {
      "image/png": "[encoded data removed]",
      "text/plain": [
       "<Figure size 432x288 with 1 Axes>"
      ]
     },
     "metadata": {
      "needs_background": "light"
     },
     "output_type": "display_data"
    }
   ],
   "source": [
    "xgb.plot_importance(xgb_clf, show_values=False)\n",
    "plt.show()"
   ]
  },
  {
   "cell_type": "code",
   "execution_count": 14,
   "id": "20d6f1bc-cfda-4d8e-a4e8-d8d0942918ed",
   "metadata": {},
   "outputs": [
    {
     "name": "stdout",
     "output_type": "stream",
     "text": [
      "The combination of parameters that minimizes oob error is {'n_estimators': 90}, with oob error 0.1849\n"
     ]
    }
   ],
   "source": [
    "# Changing number of trees\n",
    "test_params = {\n",
    " 'n_estimators':np.arange(50, 110, 10)\n",
    "}\n",
    "\n",
    "rf_model_ne = GridSearchCV(estimator = RandomForestClassifier(\n",
    "    oob_score=True, max_features='sqrt', \n",
    "     random_state=np.random.seed(2024)), param_grid = test_params)\n",
    "rf_model_ne.fit(x,y)\n",
    "print(f'The combination of parameters that minimizes oob error is {rf_model_ne.best_params_}, with oob error {round(1 - rf_model_ne.best_estimator_.oob_score_, 4)}')"
   ]
  },
  {
   "cell_type": "code",
   "execution_count": 9,
   "id": "8dffc9ee-cd54-44d0-b13e-3bfa5e6b1d12",
   "metadata": {},
   "outputs": [
    {
     "name": "stdout",
     "output_type": "stream",
     "text": [
      "The combination of parameters that minimizes oob error is {'max_features': 4}, with oob error 0.1868\n"
     ]
    }
   ],
   "source": [
    "# changing number of features\n",
    "test_params = {\n",
    " 'max_features': np.arange(2, 7, 1)\n",
    "}\n",
    "rf_model_mf = GridSearchCV(estimator = RandomForestClassifier(\n",
    "    oob_score=True, n_estimators=100, random_state=np.random.seed(2024)), \n",
    "                           param_grid = test_params)\n",
    "rf_model_mf.fit(x,y)\n",
    "print(f'The combination of parameters that minimizes oob error is {rf_model_mf.best_params_}, with oob error {round(1 - rf_model_mf.best_estimator_.oob_score_, 4)}')"
   ]
  },
  {
   "cell_type": "code",
   "execution_count": 10,
   "id": "8145d64c-b469-40b9-ab1c-32288e9b8e4e",
   "metadata": {},
   "outputs": [
    {
     "data": {
      "image/png": "[encoded data removed]",
      "text/plain": [
       "<Figure size 432x288 with 1 Axes>"
      ]
     },
     "metadata": {
      "needs_background": "light"
     },
     "output_type": "display_data"
    }
   ],
   "source": [
    "# Check importance based on best model from previous parameter tuning\n",
    "rf_params = {\n",
    "    'n_estimators': 90,\n",
    "    'max_features': 'sqrt',\n",
    "    'oob_score': True,\n",
    "    'random_state':np.random.seed(2024)\n",
    "}\n",
    "rf_clf = RandomForestClassifier(**rf_params)\n",
    "\n",
    "rf_clf.fit(x, y)\n",
    "feature_importance = rf_clf.feature_importances_\n",
    "sorted_idx = np.argsort(feature_importance)\n",
    "fig = plt.figure(figsize=(6, 4))\n",
    "plt.barh(range(len(sorted_idx)), feature_importance[sorted_idx], align='center')\n",
    "plt.yticks(range(len(sorted_idx)), np.array(x.columns)[sorted_idx])\n",
    "plt.title('Feature Importance')\n",
    "plt.xlabel('Gini Importance')\n",
    "plt.show()"
   ]
  },
  {
   "cell_type": "markdown",
   "id": "7e20331e-c2a2-48f1-8f49-64fed5dc15da",
   "metadata": {},
   "source": [
    "Here, the graph displays importance of the features. It can be observed that there are differences in the ordering of the importance of the features and the magnitude of importance. However, we cannot compare the magnitude of the importance between these two models as the importance is calculated differently. It can be observed that the top 4 most important features are the same in both models (platelet, crp, age, origesr). The XGBoost model takes less features as compared to the random forest model, female1 and diploma1 is missing."
   ]
  },
  {
   "cell_type": "markdown",
   "id": "25f5c136-8c77-406a-b424-462cfb03305a",
   "metadata": {
    "tags": []
   },
   "source": [
    "# 11.7c\n",
    "Summarize the misclassification errors from random forest 10.4, boosting,\n",
    "logistic regression 4.7 with original variables, and logistic regression with the\n",
    "transformed variables. Does boosting beat logistic regression on misclassification error? Why or why not?"
   ]
  },
  {
   "cell_type": "code",
   "execution_count": 11,
   "id": "dc5140d5-e3ef-43c3-8094-1bbcb66f97ef",
   "metadata": {},
   "outputs": [],
   "source": [
    "lr_clf = LogisticRegression(max_iter=10000)\n",
    "lr_clf.fit(x, y)\n",
    "cv = RepeatedKFold(n_splits=10, n_repeats= 1, random_state=2024)\n",
    "lr_scores = np.mean(cross_val_score(lr_clf, x, y, scoring='accuracy', \n",
    "                                    cv=cv, n_jobs=-1))"
   ]
  },
  {
   "cell_type": "code",
   "execution_count": 12,
   "id": "76dafb91-5d85-453a-b673-4af03225cec3",
   "metadata": {},
   "outputs": [],
   "source": [
    "tx = x.copy()\n",
    "tx[['origesr', 'crp']] = tx[['origesr', 'crp']].apply(lambda x: np.log(x))\n",
    "tlr_clf = LogisticRegression(max_iter=10000)\n",
    "\n",
    "tlr_clf.fit(tx, y)\n",
    "cv = RepeatedKFold(n_splits=10, n_repeats= 1, random_state=2024)\n",
    "tlr_scores = np.mean(cross_val_score(tlr_clf, tx, y, scoring='accuracy', cv=cv, n_jobs=-1))"
   ]
  },
  {
   "cell_type": "code",
   "execution_count": 13,
   "id": "e02c8a1e-1311-4a87-a923-b59a6413e8a4",
   "metadata": {},
   "outputs": [
    {
     "name": "stdout",
     "output_type": "stream",
     "text": [
      "Misclassification error from xgboost model 0.1811\n",
      "Misclassification error from random forest 0.1849\n",
      "Misclassification error from logistic regression with untransformed variable 0.2075\n",
      "Misclassification error from logistic regression with transformed variable 0.1868\n"
     ]
    }
   ],
   "source": [
    "print(f\"Misclassification error from xgboost model {round(1-model.best_score_, 4)}\")\n",
    "print(f\"Misclassification error from random forest {round(1 - rf_model_ne.best_estimator_.oob_score_, 4)}\")\n",
    "print(f\"Misclassification error from logistic regression with untransformed variable {round(1-lr_scores, 4)}\")\n",
    "print(f\"Misclassification error from logistic regression with transformed variable {round(1-tlr_scores, 4)}\")"
   ]
  },
  {
   "cell_type": "markdown",
   "id": "80e958e7-83c5-4fad-b640-3cd2af29dd1f",
   "metadata": {},
   "source": [
    "It can be seen that boosting beats the other models but not by a large margin. It is better than random forest probably due to the regularization parameters in xgboost. Our data may have not been that that linear, meaning that tree methods would have been able to explain the error better. Our data may have not been explained well by a linear boundary, hence tree methods could explain them better."
   ]
  }
 ],
 "metadata": {
  "kernelspec": {
   "display_name": "Python 3 (ipykernel)",
   "language": "python",
   "name": "python3"
  },
  "language_info": {
   "codemirror_mode": {
    "name": "ipython",
    "version": 3
   },
   "file_extension": ".py",
   "mimetype": "text/x-python",
   "name": "python",
   "nbconvert_exporter": "python",
   "pygments_lexer": "ipython3",
   "version": "3.9.12"
  }
 },
 "nbformat": 4,
 "nbformat_minor": 5
}
