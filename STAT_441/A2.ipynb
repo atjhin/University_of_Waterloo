{
 "cells": [
  {
   "cell_type": "code",
   "execution_count": 2,
   "id": "99f4a2bb-bb2e-4eed-93fc-4d914d41fbcd",
   "metadata": {},
   "outputs": [],
   "source": [
    "import pandas as pd\n",
    "import numpy as np\n",
    "import matplotlib.pyplot as plt\n",
    "import sklearn.linear_model"
   ]
  },
  {
   "cell_type": "markdown",
   "id": "12459bdd-279a-4425-b4cc-5341236fca78",
   "metadata": {},
   "source": [
    "# Q 4.6"
   ]
  },
  {
   "cell_type": "code",
   "execution_count": 4,
   "id": "09d01f48-9714-4f6d-bec6-ecad0f50ad84",
   "metadata": {},
   "outputs": [
    {
     "data": {
      "text/html": [
       "<div>\n",
       "<style scoped>\n",
       "    .dataframe tbody tr th:only-of-type {\n",
       "        vertical-align: middle;\n",
       "    }\n",
       "\n",
       "    .dataframe tbody tr th {\n",
       "        vertical-align: top;\n",
       "    }\n",
       "\n",
       "    .dataframe thead th {\n",
       "        text-align: right;\n",
       "    }\n",
       "</style>\n",
       "<table border=\"1\" class=\"dataframe\">\n",
       "  <thead>\n",
       "    <tr style=\"text-align: right;\">\n",
       "      <th></th>\n",
       "      <th>Stature</th>\n",
       "      <th>Hand</th>\n",
       "      <th>Gender</th>\n",
       "    </tr>\n",
       "  </thead>\n",
       "  <tbody>\n",
       "    <tr>\n",
       "      <th>0</th>\n",
       "      <td>169.1</td>\n",
       "      <td>204.7</td>\n",
       "      <td>Female</td>\n",
       "    </tr>\n",
       "    <tr>\n",
       "      <th>1</th>\n",
       "      <td>164.3</td>\n",
       "      <td>204.9</td>\n",
       "      <td>Female</td>\n",
       "    </tr>\n",
       "    <tr>\n",
       "      <th>2</th>\n",
       "      <td>162.8</td>\n",
       "      <td>191.9</td>\n",
       "      <td>Female</td>\n",
       "    </tr>\n",
       "    <tr>\n",
       "      <th>3</th>\n",
       "      <td>162.4</td>\n",
       "      <td>191.9</td>\n",
       "      <td>Female</td>\n",
       "    </tr>\n",
       "    <tr>\n",
       "      <th>4</th>\n",
       "      <td>170.5</td>\n",
       "      <td>207.8</td>\n",
       "      <td>Female</td>\n",
       "    </tr>\n",
       "    <tr>\n",
       "      <th>...</th>\n",
       "      <td>...</td>\n",
       "      <td>...</td>\n",
       "      <td>...</td>\n",
       "    </tr>\n",
       "    <tr>\n",
       "      <th>150</th>\n",
       "      <td>177.7</td>\n",
       "      <td>221.2</td>\n",
       "      <td>Male</td>\n",
       "    </tr>\n",
       "    <tr>\n",
       "      <th>151</th>\n",
       "      <td>163.6</td>\n",
       "      <td>189.1</td>\n",
       "      <td>Male</td>\n",
       "    </tr>\n",
       "    <tr>\n",
       "      <th>152</th>\n",
       "      <td>184.4</td>\n",
       "      <td>226.3</td>\n",
       "      <td>Male</td>\n",
       "    </tr>\n",
       "    <tr>\n",
       "      <th>153</th>\n",
       "      <td>182.7</td>\n",
       "      <td>221.6</td>\n",
       "      <td>Male</td>\n",
       "    </tr>\n",
       "    <tr>\n",
       "      <th>154</th>\n",
       "      <td>169.9</td>\n",
       "      <td>198.4</td>\n",
       "      <td>Male</td>\n",
       "    </tr>\n",
       "  </tbody>\n",
       "</table>\n",
       "<p>155 rows × 3 columns</p>\n",
       "</div>"
      ],
      "text/plain": [
       "     Stature   Hand  Gender\n",
       "0      169.1  204.7  Female\n",
       "1      164.3  204.9  Female\n",
       "2      162.8  191.9  Female\n",
       "3      162.4  191.9  Female\n",
       "4      170.5  207.8  Female\n",
       "..       ...    ...     ...\n",
       "150    177.7  221.2    Male\n",
       "151    163.6  189.1    Male\n",
       "152    184.4  226.3    Male\n",
       "153    182.7  221.6    Male\n",
       "154    169.9  198.4    Male\n",
       "\n",
       "[155 rows x 3 columns]"
      ]
     },
     "execution_count": 4,
     "metadata": {},
     "output_type": "execute_result"
    }
   ],
   "source": [
    "data = pd.read_csv('Data/stature_Turkey.csv')\n",
    "data"
   ]
  },
  {
   "cell_type": "code",
   "execution_count": 5,
   "id": "20f5ce09-6ace-426d-8d9b-0575f1c0ae22",
   "metadata": {},
   "outputs": [
    {
     "data": {
      "image/png": "[encoded data removed]",
      "text/plain": [
       "<Figure size 432x288 with 1 Axes>"
      ]
     },
     "metadata": {
      "needs_background": "light"
     },
     "output_type": "display_data"
    }
   ],
   "source": [
    "x = np.array(data[['Stature', 'Hand']])\n",
    "y = np.array(data['Gender'].replace(['Female', 'Male'], [1, 0]))\n",
    "\n",
    "plt.scatter(*x[y==0].T, s=8, alpha=0.5, label='Male', color='tab:blue')\n",
    "plt.scatter(*x[y==1].T, s=8, alpha=0.5, label='Female', color='tab:red')\n",
    "plt.axvline(168, color='tab:purple')\n",
    "plt.ylabel('Hand Length')\n",
    "plt.xlabel('Height')\n",
    "plt.legend()\n",
    "plt.show()"
   ]
  },
  {
   "cell_type": "markdown",
   "id": "34205080-073c-4e37-b3bd-d74acef90efc",
   "metadata": {},
   "source": [
    "(b) Using software, fit a logistic regression on an indicator variable for “female” on height and hand length. "
   ]
  },
  {
   "cell_type": "code",
   "execution_count": 6,
   "id": "81db85db-3acb-474a-84a8-33e10c53296c",
   "metadata": {},
   "outputs": [
    {
     "data": {
      "text/plain": [
       "array([[-1.08520342,  0.16636073]])"
      ]
     },
     "execution_count": 6,
     "metadata": {},
     "output_type": "execute_result"
    }
   ],
   "source": [
    "clf = sklearn.linear_model.LogisticRegression()\n",
    "clf.fit(x, y)\n",
    "clf.coef_"
   ]
  },
  {
   "cell_type": "markdown",
   "id": "2309e11d-b6b2-49f1-8b41-9fcb07c3ed36",
   "metadata": {},
   "source": [
    "Here the first parameter is the Stature indicating a $\\beta_1=-1.0852$ and for Hand we get $\\beta_2=0.1664$"
   ]
  },
  {
   "cell_type": "markdown",
   "id": "e43b6dde-50f8-4803-baa7-28fa97024c84",
   "metadata": {},
   "source": [
    "(c) Using software, create a scatter plot of $x_1$ vs $x_2$, where the plotting symbol is whether or not the person is female. Add the decision boundary from the logistic regression to this plot."
   ]
  },
  {
   "cell_type": "code",
   "execution_count": 7,
   "id": "20221eec-fd15-448b-ba35-50992bdac8ef",
   "metadata": {},
   "outputs": [
    {
     "data": {
      "image/png": "[encoded data removed]",
      "text/plain": [
       "<Figure size 432x288 with 1 Axes>"
      ]
     },
     "metadata": {
      "needs_background": "light"
     },
     "output_type": "display_data"
    }
   ],
   "source": [
    "b = clf.intercept_[0]\n",
    "w1, w2 = clf.coef_.T\n",
    "c = -b/w2\n",
    "m = -w1/w2\n",
    "\n",
    "xmin, xmax = 150, 190\n",
    "ymin, ymax = 170, 235\n",
    "xd = np.array([xmin, xmax])\n",
    "yd = m*xd + c\n",
    "plt.plot(xd, yd, 'k', lw=1, ls='--')\n",
    "plt.fill_between(xd, yd, ymin, color='tab:blue', alpha=0.2)\n",
    "plt.fill_between(xd, yd, ymax, color='tab:orange', alpha=0.2)\n",
    "\n",
    "plt.scatter(*x[y==0].T, s=8, alpha=0.5, label='Male')\n",
    "plt.scatter(*x[y==1].T, s=8, alpha=0.5, label='Female')\n",
    "plt.xlim(xmin, xmax)\n",
    "plt.ylim(ymin, ymax)\n",
    "plt.ylabel('Hand Length')\n",
    "plt.xlabel('Height')\n",
    "plt.legend()\n",
    "\n",
    "plt.show()"
   ]
  },
  {
   "cell_type": "markdown",
   "id": "7a82f9c2-ff70-475c-89e1-182eba82b0ed",
   "metadata": {},
   "source": [
    "(d) Does a smaller height make it more likely the gender is female? Interpret the coefficient, if appropriate. "
   ]
  },
  {
   "cell_type": "markdown",
   "id": "827603d0-60f9-4c53-aa9a-8f27d36b4115",
   "metadata": {},
   "source": [
    "Ans: A decrease in height causes an increase in log odds ratio of Female to Male. Therefore, it is more likely for it to be a female with a smaller height. i.e., a decrease in 1 cm of height causes an increase of 1.0852 of log odds ratio."
   ]
  },
  {
   "cell_type": "markdown",
   "id": "f90c386b-0cc7-431f-b8cf-eea3ea17825a",
   "metadata": {},
   "source": [
    "(e) Does a smaller hand length make it more likely the gender is female? Interpret the coefficient, if appropriate. "
   ]
  },
  {
   "cell_type": "markdown",
   "id": "5a87f464-bc3a-4c19-afad-40dd4da7b387",
   "metadata": {},
   "source": [
    "Ans: A decrease in hand length causes a decrease in log odds ratio of Female to Male. Therefore, it is less likely that the gender is female. i.e. a decrease in 1 mm of arm's length causes an increase of 0.1664 of log odds ratio."
   ]
  }
 ],
 "metadata": {
  "kernelspec": {
   "display_name": "Python 3 (ipykernel)",
   "language": "python",
   "name": "python3"
  },
  "language_info": {
   "codemirror_mode": {
    "name": "ipython",
    "version": 3
   },
   "file_extension": ".py",
   "mimetype": "text/x-python",
   "name": "python",
   "nbconvert_exporter": "python",
   "pygments_lexer": "ipython3",
   "version": "3.9.12"
  }
 },
 "nbformat": 4,
 "nbformat_minor": 5
}
